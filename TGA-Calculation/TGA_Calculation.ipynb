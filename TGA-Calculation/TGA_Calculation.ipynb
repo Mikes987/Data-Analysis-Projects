{
 "cells": [
  {
   "cell_type": "markdown",
   "metadata": {},
   "source": [
    "# TGA Calculation for monolayer"
   ]
  },
  {
   "cell_type": "markdown",
   "metadata": {},
   "source": [
    "This little notebook demonstrates [Thermogravimetric analysis](https://en.wikipedia.org/wiki/Thermogravimetric_analysis) that was used for a project of the analysis of hierarchical materials coated with one organic monolayer. Here, it had been oleic acid and squalene. The entire calculation was done within Excel VBA but can be done within any programming language. Here, it will shortely be introduced in python notebook."
   ]
  },
  {
   "cell_type": "code",
   "execution_count": 83,
   "metadata": {},
   "outputs": [],
   "source": [
    "import numpy as np\n",
    "import pandas as pd\n",
    "import matplotlib.pyplot as plt"
   ]
  },
  {
   "cell_type": "code",
   "execution_count": 84,
   "metadata": {
    "scrolled": false
   },
   "outputs": [
    {
     "data": {
      "text/html": [
       "<div>\n",
       "<style scoped>\n",
       "    .dataframe tbody tr th:only-of-type {\n",
       "        vertical-align: middle;\n",
       "    }\n",
       "\n",
       "    .dataframe tbody tr th {\n",
       "        vertical-align: top;\n",
       "    }\n",
       "\n",
       "    .dataframe thead tr th {\n",
       "        text-align: left;\n",
       "    }\n",
       "</style>\n",
       "<table border=\"1\" class=\"dataframe\">\n",
       "  <thead>\n",
       "    <tr>\n",
       "      <th></th>\n",
       "      <th>Index</th>\n",
       "      <th>Ts</th>\n",
       "      <th>t</th>\n",
       "      <th>HF</th>\n",
       "      <th>Gewicht</th>\n",
       "      <th>Tr</th>\n",
       "    </tr>\n",
       "    <tr>\n",
       "      <th></th>\n",
       "      <th>[#]</th>\n",
       "      <th>[°C]</th>\n",
       "      <th>[s]</th>\n",
       "      <th>[mW]</th>\n",
       "      <th>[mg]</th>\n",
       "      <th>[°C]</th>\n",
       "    </tr>\n",
       "  </thead>\n",
       "  <tbody>\n",
       "    <tr>\n",
       "      <th>0</th>\n",
       "      <td>0</td>\n",
       "      <td>2.89543e+001</td>\n",
       "      <td>0.00000e+000</td>\n",
       "      <td>-7.07984</td>\n",
       "      <td>31.9133</td>\n",
       "      <td>25.0000</td>\n",
       "    </tr>\n",
       "    <tr>\n",
       "      <th>1</th>\n",
       "      <td>1</td>\n",
       "      <td>2.89199e+001</td>\n",
       "      <td>1.00000e+000</td>\n",
       "      <td>-7.34655</td>\n",
       "      <td>31.9135</td>\n",
       "      <td>25.1667</td>\n",
       "    </tr>\n",
       "    <tr>\n",
       "      <th>2</th>\n",
       "      <td>2</td>\n",
       "      <td>2.89252e+001</td>\n",
       "      <td>2.00000e+000</td>\n",
       "      <td>-6.83294</td>\n",
       "      <td>31.9143</td>\n",
       "      <td>25.3333</td>\n",
       "    </tr>\n",
       "    <tr>\n",
       "      <th>3</th>\n",
       "      <td>3</td>\n",
       "      <td>2.89702e+001</td>\n",
       "      <td>3.00000e+000</td>\n",
       "      <td>-5.72068</td>\n",
       "      <td>31.9162</td>\n",
       "      <td>25.5000</td>\n",
       "    </tr>\n",
       "    <tr>\n",
       "      <th>4</th>\n",
       "      <td>4</td>\n",
       "      <td>2.90247e+001</td>\n",
       "      <td>4.00000e+000</td>\n",
       "      <td>-4.28816</td>\n",
       "      <td>31.9207</td>\n",
       "      <td>25.6667</td>\n",
       "    </tr>\n",
       "    <tr>\n",
       "      <th>...</th>\n",
       "      <td>...</td>\n",
       "      <td>...</td>\n",
       "      <td>...</td>\n",
       "      <td>...</td>\n",
       "      <td>...</td>\n",
       "      <td>...</td>\n",
       "    </tr>\n",
       "    <tr>\n",
       "      <th>5247</th>\n",
       "      <td>5247</td>\n",
       "      <td>6.00082e+002</td>\n",
       "      <td>5.24700e+003</td>\n",
       "      <td>64.81330</td>\n",
       "      <td>31.5025</td>\n",
       "      <td>600.0000</td>\n",
       "    </tr>\n",
       "    <tr>\n",
       "      <th>5248</th>\n",
       "      <td>5248</td>\n",
       "      <td>6.00087e+002</td>\n",
       "      <td>5.24800e+003</td>\n",
       "      <td>64.81250</td>\n",
       "      <td>31.5025</td>\n",
       "      <td>600.0000</td>\n",
       "    </tr>\n",
       "    <tr>\n",
       "      <th>5249</th>\n",
       "      <td>5249</td>\n",
       "      <td>6.00085e+002</td>\n",
       "      <td>5.24900e+003</td>\n",
       "      <td>64.81140</td>\n",
       "      <td>31.5025</td>\n",
       "      <td>600.0000</td>\n",
       "    </tr>\n",
       "    <tr>\n",
       "      <th>5250</th>\n",
       "      <td>5250</td>\n",
       "      <td>6.00076e+002</td>\n",
       "      <td>5.25000e+003</td>\n",
       "      <td>64.80980</td>\n",
       "      <td>31.5025</td>\n",
       "      <td>600.0000</td>\n",
       "    </tr>\n",
       "    <tr>\n",
       "      <th>5251</th>\n",
       "      <td>20180117_BFX_12_600°C,</td>\n",
       "      <td>17.01.2018</td>\n",
       "      <td>12:34:07</td>\n",
       "      <td>NaN</td>\n",
       "      <td>NaN</td>\n",
       "      <td>NaN</td>\n",
       "    </tr>\n",
       "  </tbody>\n",
       "</table>\n",
       "<p>5252 rows × 6 columns</p>\n",
       "</div>"
      ],
      "text/plain": [
       "                       Index            Ts             t        HF  Gewicht  \\\n",
       "                         [#]          [°C]           [s]      [mW]     [mg]   \n",
       "0                          0  2.89543e+001  0.00000e+000  -7.07984  31.9133   \n",
       "1                          1  2.89199e+001  1.00000e+000  -7.34655  31.9135   \n",
       "2                          2  2.89252e+001  2.00000e+000  -6.83294  31.9143   \n",
       "3                          3  2.89702e+001  3.00000e+000  -5.72068  31.9162   \n",
       "4                          4  2.90247e+001  4.00000e+000  -4.28816  31.9207   \n",
       "...                      ...           ...           ...       ...      ...   \n",
       "5247                    5247  6.00082e+002  5.24700e+003  64.81330  31.5025   \n",
       "5248                    5248  6.00087e+002  5.24800e+003  64.81250  31.5025   \n",
       "5249                    5249  6.00085e+002  5.24900e+003  64.81140  31.5025   \n",
       "5250                    5250  6.00076e+002  5.25000e+003  64.80980  31.5025   \n",
       "5251  20180117_BFX_12_600°C,    17.01.2018      12:34:07       NaN      NaN   \n",
       "\n",
       "            Tr  \n",
       "          [°C]  \n",
       "0      25.0000  \n",
       "1      25.1667  \n",
       "2      25.3333  \n",
       "3      25.5000  \n",
       "4      25.6667  \n",
       "...        ...  \n",
       "5247  600.0000  \n",
       "5248  600.0000  \n",
       "5249  600.0000  \n",
       "5250  600.0000  \n",
       "5251       NaN  \n",
       "\n",
       "[5252 rows x 6 columns]"
      ]
     },
     "execution_count": 84,
     "metadata": {},
     "output_type": "execute_result"
    }
   ],
   "source": [
    "data = pd.read_table('20180117_BFX_12_600°C.txt', sep=\"\\s+\", encoding= 'unicode_escape', header=[0,1])\n",
    "data"
   ]
  },
  {
   "cell_type": "markdown",
   "metadata": {},
   "source": [
    "In order not to have problems later, we'll merge the two headers into one. How does the header structure look like?"
   ]
  },
  {
   "cell_type": "code",
   "execution_count": 85,
   "metadata": {},
   "outputs": [
    {
     "data": {
      "text/plain": [
       "MultiIndex([(  'Index',  '[#]'),\n",
       "            (     'Ts', '[°C]'),\n",
       "            (      't',  '[s]'),\n",
       "            (     'HF', '[mW]'),\n",
       "            ('Gewicht', '[mg]'),\n",
       "            (     'Tr', '[°C]')],\n",
       "           )"
      ]
     },
     "execution_count": 85,
     "metadata": {},
     "output_type": "execute_result"
    }
   ],
   "source": [
    "data.columns"
   ]
  },
  {
   "cell_type": "code",
   "execution_count": 86,
   "metadata": {},
   "outputs": [],
   "source": [
    "def merge_header(x):\n",
    "    ar = []\n",
    "    for head in x:\n",
    "        ar.append(\"_\".join(head))\n",
    "    return ar"
   ]
  },
  {
   "cell_type": "code",
   "execution_count": 87,
   "metadata": {},
   "outputs": [
    {
     "data": {
      "text/plain": [
       "['Index_[#]', 'Ts_[°C]', 't_[s]', 'HF_[mW]', 'Gewicht_[mg]', 'Tr_[°C]']"
      ]
     },
     "execution_count": 87,
     "metadata": {},
     "output_type": "execute_result"
    }
   ],
   "source": [
    "cols = merge_header(data.columns)\n",
    "cols"
   ]
  },
  {
   "cell_type": "code",
   "execution_count": 88,
   "metadata": {},
   "outputs": [],
   "source": [
    "data.columns=cols"
   ]
  },
  {
   "cell_type": "code",
   "execution_count": 89,
   "metadata": {},
   "outputs": [
    {
     "data": {
      "text/html": [
       "<div>\n",
       "<style scoped>\n",
       "    .dataframe tbody tr th:only-of-type {\n",
       "        vertical-align: middle;\n",
       "    }\n",
       "\n",
       "    .dataframe tbody tr th {\n",
       "        vertical-align: top;\n",
       "    }\n",
       "\n",
       "    .dataframe thead th {\n",
       "        text-align: right;\n",
       "    }\n",
       "</style>\n",
       "<table border=\"1\" class=\"dataframe\">\n",
       "  <thead>\n",
       "    <tr style=\"text-align: right;\">\n",
       "      <th></th>\n",
       "      <th>Index_[#]</th>\n",
       "      <th>Ts_[°C]</th>\n",
       "      <th>t_[s]</th>\n",
       "      <th>HF_[mW]</th>\n",
       "      <th>Gewicht_[mg]</th>\n",
       "      <th>Tr_[°C]</th>\n",
       "    </tr>\n",
       "  </thead>\n",
       "  <tbody>\n",
       "    <tr>\n",
       "      <th>0</th>\n",
       "      <td>0</td>\n",
       "      <td>2.89543e+001</td>\n",
       "      <td>0.00000e+000</td>\n",
       "      <td>-7.07984</td>\n",
       "      <td>31.9133</td>\n",
       "      <td>25.0000</td>\n",
       "    </tr>\n",
       "    <tr>\n",
       "      <th>1</th>\n",
       "      <td>1</td>\n",
       "      <td>2.89199e+001</td>\n",
       "      <td>1.00000e+000</td>\n",
       "      <td>-7.34655</td>\n",
       "      <td>31.9135</td>\n",
       "      <td>25.1667</td>\n",
       "    </tr>\n",
       "    <tr>\n",
       "      <th>2</th>\n",
       "      <td>2</td>\n",
       "      <td>2.89252e+001</td>\n",
       "      <td>2.00000e+000</td>\n",
       "      <td>-6.83294</td>\n",
       "      <td>31.9143</td>\n",
       "      <td>25.3333</td>\n",
       "    </tr>\n",
       "  </tbody>\n",
       "</table>\n",
       "</div>"
      ],
      "text/plain": [
       "  Index_[#]       Ts_[°C]         t_[s]  HF_[mW]  Gewicht_[mg]  Tr_[°C]\n",
       "0         0  2.89543e+001  0.00000e+000 -7.07984       31.9133  25.0000\n",
       "1         1  2.89199e+001  1.00000e+000 -7.34655       31.9135  25.1667\n",
       "2         2  2.89252e+001  2.00000e+000 -6.83294       31.9143  25.3333"
      ]
     },
     "execution_count": 89,
     "metadata": {},
     "output_type": "execute_result"
    }
   ],
   "source": [
    "data.head(3)"
   ]
  },
  {
   "cell_type": "markdown",
   "metadata": {},
   "source": [
    "For further calculation, we need to delete the last row."
   ]
  },
  {
   "cell_type": "code",
   "execution_count": 90,
   "metadata": {},
   "outputs": [
    {
     "data": {
      "text/html": [
       "<div>\n",
       "<style scoped>\n",
       "    .dataframe tbody tr th:only-of-type {\n",
       "        vertical-align: middle;\n",
       "    }\n",
       "\n",
       "    .dataframe tbody tr th {\n",
       "        vertical-align: top;\n",
       "    }\n",
       "\n",
       "    .dataframe thead th {\n",
       "        text-align: right;\n",
       "    }\n",
       "</style>\n",
       "<table border=\"1\" class=\"dataframe\">\n",
       "  <thead>\n",
       "    <tr style=\"text-align: right;\">\n",
       "      <th></th>\n",
       "      <th>Index_[#]</th>\n",
       "      <th>Ts_[°C]</th>\n",
       "      <th>t_[s]</th>\n",
       "      <th>HF_[mW]</th>\n",
       "      <th>Gewicht_[mg]</th>\n",
       "      <th>Tr_[°C]</th>\n",
       "    </tr>\n",
       "  </thead>\n",
       "  <tbody>\n",
       "    <tr>\n",
       "      <th>5249</th>\n",
       "      <td>5249</td>\n",
       "      <td>6.00085e+002</td>\n",
       "      <td>5.24900e+003</td>\n",
       "      <td>64.8114</td>\n",
       "      <td>31.5025</td>\n",
       "      <td>600.0</td>\n",
       "    </tr>\n",
       "    <tr>\n",
       "      <th>5250</th>\n",
       "      <td>5250</td>\n",
       "      <td>6.00076e+002</td>\n",
       "      <td>5.25000e+003</td>\n",
       "      <td>64.8098</td>\n",
       "      <td>31.5025</td>\n",
       "      <td>600.0</td>\n",
       "    </tr>\n",
       "    <tr>\n",
       "      <th>5251</th>\n",
       "      <td>20180117_BFX_12_600°C,</td>\n",
       "      <td>17.01.2018</td>\n",
       "      <td>12:34:07</td>\n",
       "      <td>NaN</td>\n",
       "      <td>NaN</td>\n",
       "      <td>NaN</td>\n",
       "    </tr>\n",
       "  </tbody>\n",
       "</table>\n",
       "</div>"
      ],
      "text/plain": [
       "                   Index_[#]       Ts_[°C]         t_[s]  HF_[mW]  \\\n",
       "5249                    5249  6.00085e+002  5.24900e+003  64.8114   \n",
       "5250                    5250  6.00076e+002  5.25000e+003  64.8098   \n",
       "5251  20180117_BFX_12_600°C,    17.01.2018      12:34:07      NaN   \n",
       "\n",
       "      Gewicht_[mg]  Tr_[°C]  \n",
       "5249       31.5025    600.0  \n",
       "5250       31.5025    600.0  \n",
       "5251           NaN      NaN  "
      ]
     },
     "execution_count": 90,
     "metadata": {},
     "output_type": "execute_result"
    }
   ],
   "source": [
    "data.tail(3)"
   ]
  },
  {
   "cell_type": "code",
   "execution_count": 91,
   "metadata": {},
   "outputs": [],
   "source": [
    "data.drop(data.tail(1).index, inplace=True)"
   ]
  },
  {
   "cell_type": "code",
   "execution_count": 92,
   "metadata": {},
   "outputs": [
    {
     "data": {
      "text/html": [
       "<div>\n",
       "<style scoped>\n",
       "    .dataframe tbody tr th:only-of-type {\n",
       "        vertical-align: middle;\n",
       "    }\n",
       "\n",
       "    .dataframe tbody tr th {\n",
       "        vertical-align: top;\n",
       "    }\n",
       "\n",
       "    .dataframe thead th {\n",
       "        text-align: right;\n",
       "    }\n",
       "</style>\n",
       "<table border=\"1\" class=\"dataframe\">\n",
       "  <thead>\n",
       "    <tr style=\"text-align: right;\">\n",
       "      <th></th>\n",
       "      <th>Index_[#]</th>\n",
       "      <th>Ts_[°C]</th>\n",
       "      <th>t_[s]</th>\n",
       "      <th>HF_[mW]</th>\n",
       "      <th>Gewicht_[mg]</th>\n",
       "      <th>Tr_[°C]</th>\n",
       "    </tr>\n",
       "  </thead>\n",
       "  <tbody>\n",
       "    <tr>\n",
       "      <th>5248</th>\n",
       "      <td>5248</td>\n",
       "      <td>6.00087e+002</td>\n",
       "      <td>5.24800e+003</td>\n",
       "      <td>64.8125</td>\n",
       "      <td>31.5025</td>\n",
       "      <td>600.0</td>\n",
       "    </tr>\n",
       "    <tr>\n",
       "      <th>5249</th>\n",
       "      <td>5249</td>\n",
       "      <td>6.00085e+002</td>\n",
       "      <td>5.24900e+003</td>\n",
       "      <td>64.8114</td>\n",
       "      <td>31.5025</td>\n",
       "      <td>600.0</td>\n",
       "    </tr>\n",
       "    <tr>\n",
       "      <th>5250</th>\n",
       "      <td>5250</td>\n",
       "      <td>6.00076e+002</td>\n",
       "      <td>5.25000e+003</td>\n",
       "      <td>64.8098</td>\n",
       "      <td>31.5025</td>\n",
       "      <td>600.0</td>\n",
       "    </tr>\n",
       "  </tbody>\n",
       "</table>\n",
       "</div>"
      ],
      "text/plain": [
       "     Index_[#]       Ts_[°C]         t_[s]  HF_[mW]  Gewicht_[mg]  Tr_[°C]\n",
       "5248      5248  6.00087e+002  5.24800e+003  64.8125       31.5025    600.0\n",
       "5249      5249  6.00085e+002  5.24900e+003  64.8114       31.5025    600.0\n",
       "5250      5250  6.00076e+002  5.25000e+003  64.8098       31.5025    600.0"
      ]
     },
     "execution_count": 92,
     "metadata": {},
     "output_type": "execute_result"
    }
   ],
   "source": [
    "data.tail(3)"
   ]
  },
  {
   "cell_type": "markdown",
   "metadata": {},
   "source": [
    "### Create further columns"
   ]
  },
  {
   "cell_type": "markdown",
   "metadata": {},
   "source": [
    "**First**, save the initial mass."
   ]
  },
  {
   "cell_type": "code",
   "execution_count": 93,
   "metadata": {},
   "outputs": [
    {
     "data": {
      "text/html": [
       "<div>\n",
       "<style scoped>\n",
       "    .dataframe tbody tr th:only-of-type {\n",
       "        vertical-align: middle;\n",
       "    }\n",
       "\n",
       "    .dataframe tbody tr th {\n",
       "        vertical-align: top;\n",
       "    }\n",
       "\n",
       "    .dataframe thead th {\n",
       "        text-align: right;\n",
       "    }\n",
       "</style>\n",
       "<table border=\"1\" class=\"dataframe\">\n",
       "  <thead>\n",
       "    <tr style=\"text-align: right;\">\n",
       "      <th></th>\n",
       "      <th>Index_[#]</th>\n",
       "      <th>Ts_[°C]</th>\n",
       "      <th>t_[s]</th>\n",
       "      <th>HF_[mW]</th>\n",
       "      <th>Gewicht_[mg]</th>\n",
       "      <th>Tr_[°C]</th>\n",
       "    </tr>\n",
       "  </thead>\n",
       "  <tbody>\n",
       "    <tr>\n",
       "      <th>0</th>\n",
       "      <td>0</td>\n",
       "      <td>2.89543e+001</td>\n",
       "      <td>0.00000e+000</td>\n",
       "      <td>-7.07984</td>\n",
       "      <td>31.9133</td>\n",
       "      <td>25.0000</td>\n",
       "    </tr>\n",
       "    <tr>\n",
       "      <th>1</th>\n",
       "      <td>1</td>\n",
       "      <td>2.89199e+001</td>\n",
       "      <td>1.00000e+000</td>\n",
       "      <td>-7.34655</td>\n",
       "      <td>31.9135</td>\n",
       "      <td>25.1667</td>\n",
       "    </tr>\n",
       "  </tbody>\n",
       "</table>\n",
       "</div>"
      ],
      "text/plain": [
       "  Index_[#]       Ts_[°C]         t_[s]  HF_[mW]  Gewicht_[mg]  Tr_[°C]\n",
       "0         0  2.89543e+001  0.00000e+000 -7.07984       31.9133  25.0000\n",
       "1         1  2.89199e+001  1.00000e+000 -7.34655       31.9135  25.1667"
      ]
     },
     "execution_count": 93,
     "metadata": {},
     "output_type": "execute_result"
    }
   ],
   "source": [
    "data.head(2)"
   ]
  },
  {
   "cell_type": "code",
   "execution_count": 97,
   "metadata": {},
   "outputs": [
    {
     "data": {
      "text/plain": [
       "31.9133"
      ]
     },
     "execution_count": 97,
     "metadata": {},
     "output_type": "execute_result"
    }
   ],
   "source": [
    "mass_reference = data.iloc[0, 4]\n",
    "mass_reference"
   ]
  },
  {
   "cell_type": "code",
   "execution_count": 98,
   "metadata": {},
   "outputs": [
    {
     "data": {
      "text/html": [
       "<div>\n",
       "<style scoped>\n",
       "    .dataframe tbody tr th:only-of-type {\n",
       "        vertical-align: middle;\n",
       "    }\n",
       "\n",
       "    .dataframe tbody tr th {\n",
       "        vertical-align: top;\n",
       "    }\n",
       "\n",
       "    .dataframe thead th {\n",
       "        text-align: right;\n",
       "    }\n",
       "</style>\n",
       "<table border=\"1\" class=\"dataframe\">\n",
       "  <thead>\n",
       "    <tr style=\"text-align: right;\">\n",
       "      <th></th>\n",
       "      <th>Index_[#]</th>\n",
       "      <th>Ts_[°C]</th>\n",
       "      <th>t_[s]</th>\n",
       "      <th>HF_[mW]</th>\n",
       "      <th>Gewicht_[mg]</th>\n",
       "      <th>Tr_[°C]</th>\n",
       "      <th>Mass_Percentage_[&amp;]</th>\n",
       "      <th>Mass_lost_[mg]</th>\n",
       "    </tr>\n",
       "  </thead>\n",
       "  <tbody>\n",
       "    <tr>\n",
       "      <th>0</th>\n",
       "      <td>0</td>\n",
       "      <td>2.89543e+001</td>\n",
       "      <td>0.00000e+000</td>\n",
       "      <td>-7.07984</td>\n",
       "      <td>31.9133</td>\n",
       "      <td>25.0000</td>\n",
       "      <td>100.000000</td>\n",
       "      <td>0.0000</td>\n",
       "    </tr>\n",
       "    <tr>\n",
       "      <th>1</th>\n",
       "      <td>1</td>\n",
       "      <td>2.89199e+001</td>\n",
       "      <td>1.00000e+000</td>\n",
       "      <td>-7.34655</td>\n",
       "      <td>31.9135</td>\n",
       "      <td>25.1667</td>\n",
       "      <td>100.000627</td>\n",
       "      <td>-0.0002</td>\n",
       "    </tr>\n",
       "    <tr>\n",
       "      <th>2</th>\n",
       "      <td>2</td>\n",
       "      <td>2.89252e+001</td>\n",
       "      <td>2.00000e+000</td>\n",
       "      <td>-6.83294</td>\n",
       "      <td>31.9143</td>\n",
       "      <td>25.3333</td>\n",
       "      <td>100.003133</td>\n",
       "      <td>-0.0010</td>\n",
       "    </tr>\n",
       "    <tr>\n",
       "      <th>3</th>\n",
       "      <td>3</td>\n",
       "      <td>2.89702e+001</td>\n",
       "      <td>3.00000e+000</td>\n",
       "      <td>-5.72068</td>\n",
       "      <td>31.9162</td>\n",
       "      <td>25.5000</td>\n",
       "      <td>100.009087</td>\n",
       "      <td>-0.0029</td>\n",
       "    </tr>\n",
       "    <tr>\n",
       "      <th>4</th>\n",
       "      <td>4</td>\n",
       "      <td>2.90247e+001</td>\n",
       "      <td>4.00000e+000</td>\n",
       "      <td>-4.28816</td>\n",
       "      <td>31.9207</td>\n",
       "      <td>25.6667</td>\n",
       "      <td>100.023188</td>\n",
       "      <td>-0.0074</td>\n",
       "    </tr>\n",
       "  </tbody>\n",
       "</table>\n",
       "</div>"
      ],
      "text/plain": [
       "  Index_[#]       Ts_[°C]         t_[s]  HF_[mW]  Gewicht_[mg]  Tr_[°C]  \\\n",
       "0         0  2.89543e+001  0.00000e+000 -7.07984       31.9133  25.0000   \n",
       "1         1  2.89199e+001  1.00000e+000 -7.34655       31.9135  25.1667   \n",
       "2         2  2.89252e+001  2.00000e+000 -6.83294       31.9143  25.3333   \n",
       "3         3  2.89702e+001  3.00000e+000 -5.72068       31.9162  25.5000   \n",
       "4         4  2.90247e+001  4.00000e+000 -4.28816       31.9207  25.6667   \n",
       "\n",
       "   Mass_Percentage_[&]  Mass_lost_[mg]  \n",
       "0           100.000000          0.0000  \n",
       "1           100.000627         -0.0002  \n",
       "2           100.003133         -0.0010  \n",
       "3           100.009087         -0.0029  \n",
       "4           100.023188         -0.0074  "
      ]
     },
     "execution_count": 98,
     "metadata": {},
     "output_type": "execute_result"
    }
   ],
   "source": [
    "data['Mass_Percentage_[&]'] = data['Gewicht_[mg]']/mass_reference*100\n",
    "data['Mass_lost_[mg]'] = mass_reference - data['Gewicht_[mg]']\n",
    "data.head()"
   ]
  },
  {
   "cell_type": "markdown",
   "metadata": {},
   "source": [
    "Look for the maximum data in **Mass Percentage**. Then, create column for normalization."
   ]
  },
  {
   "cell_type": "code",
   "execution_count": 99,
   "metadata": {},
   "outputs": [
    {
     "data": {
      "text/plain": [
       "100.45184922900484"
      ]
     },
     "execution_count": 99,
     "metadata": {},
     "output_type": "execute_result"
    }
   ],
   "source": [
    "max_mass = np.amax(data['Mass_Percentage_[&]'].values)\n",
    "max_mass"
   ]
  },
  {
   "cell_type": "code",
   "execution_count": 101,
   "metadata": {},
   "outputs": [
    {
     "data": {
      "text/html": [
       "<div>\n",
       "<style scoped>\n",
       "    .dataframe tbody tr th:only-of-type {\n",
       "        vertical-align: middle;\n",
       "    }\n",
       "\n",
       "    .dataframe tbody tr th {\n",
       "        vertical-align: top;\n",
       "    }\n",
       "\n",
       "    .dataframe thead th {\n",
       "        text-align: right;\n",
       "    }\n",
       "</style>\n",
       "<table border=\"1\" class=\"dataframe\">\n",
       "  <thead>\n",
       "    <tr style=\"text-align: right;\">\n",
       "      <th></th>\n",
       "      <th>Index_[#]</th>\n",
       "      <th>Ts_[°C]</th>\n",
       "      <th>t_[s]</th>\n",
       "      <th>HF_[mW]</th>\n",
       "      <th>Gewicht_[mg]</th>\n",
       "      <th>Tr_[°C]</th>\n",
       "      <th>Mass_Percentage_[&amp;]</th>\n",
       "      <th>Mass_lost_[mg]</th>\n",
       "      <th>Mass_normalized_[%]</th>\n",
       "    </tr>\n",
       "  </thead>\n",
       "  <tbody>\n",
       "    <tr>\n",
       "      <th>0</th>\n",
       "      <td>0</td>\n",
       "      <td>2.89543e+001</td>\n",
       "      <td>0.00000e+000</td>\n",
       "      <td>-7.07984</td>\n",
       "      <td>31.9133</td>\n",
       "      <td>25.0000</td>\n",
       "      <td>100.000000</td>\n",
       "      <td>0.0000</td>\n",
       "      <td>99.550183</td>\n",
       "    </tr>\n",
       "    <tr>\n",
       "      <th>1</th>\n",
       "      <td>1</td>\n",
       "      <td>2.89199e+001</td>\n",
       "      <td>1.00000e+000</td>\n",
       "      <td>-7.34655</td>\n",
       "      <td>31.9135</td>\n",
       "      <td>25.1667</td>\n",
       "      <td>100.000627</td>\n",
       "      <td>-0.0002</td>\n",
       "      <td>99.550807</td>\n",
       "    </tr>\n",
       "    <tr>\n",
       "      <th>2</th>\n",
       "      <td>2</td>\n",
       "      <td>2.89252e+001</td>\n",
       "      <td>2.00000e+000</td>\n",
       "      <td>-6.83294</td>\n",
       "      <td>31.9143</td>\n",
       "      <td>25.3333</td>\n",
       "      <td>100.003133</td>\n",
       "      <td>-0.0010</td>\n",
       "      <td>99.553303</td>\n",
       "    </tr>\n",
       "    <tr>\n",
       "      <th>3</th>\n",
       "      <td>3</td>\n",
       "      <td>2.89702e+001</td>\n",
       "      <td>3.00000e+000</td>\n",
       "      <td>-5.72068</td>\n",
       "      <td>31.9162</td>\n",
       "      <td>25.5000</td>\n",
       "      <td>100.009087</td>\n",
       "      <td>-0.0029</td>\n",
       "      <td>99.559230</td>\n",
       "    </tr>\n",
       "    <tr>\n",
       "      <th>4</th>\n",
       "      <td>4</td>\n",
       "      <td>2.90247e+001</td>\n",
       "      <td>4.00000e+000</td>\n",
       "      <td>-4.28816</td>\n",
       "      <td>31.9207</td>\n",
       "      <td>25.6667</td>\n",
       "      <td>100.023188</td>\n",
       "      <td>-0.0074</td>\n",
       "      <td>99.573267</td>\n",
       "    </tr>\n",
       "  </tbody>\n",
       "</table>\n",
       "</div>"
      ],
      "text/plain": [
       "  Index_[#]       Ts_[°C]         t_[s]  HF_[mW]  Gewicht_[mg]  Tr_[°C]  \\\n",
       "0         0  2.89543e+001  0.00000e+000 -7.07984       31.9133  25.0000   \n",
       "1         1  2.89199e+001  1.00000e+000 -7.34655       31.9135  25.1667   \n",
       "2         2  2.89252e+001  2.00000e+000 -6.83294       31.9143  25.3333   \n",
       "3         3  2.89702e+001  3.00000e+000 -5.72068       31.9162  25.5000   \n",
       "4         4  2.90247e+001  4.00000e+000 -4.28816       31.9207  25.6667   \n",
       "\n",
       "   Mass_Percentage_[&]  Mass_lost_[mg]  Mass_normalized_[%]  \n",
       "0           100.000000          0.0000            99.550183  \n",
       "1           100.000627         -0.0002            99.550807  \n",
       "2           100.003133         -0.0010            99.553303  \n",
       "3           100.009087         -0.0029            99.559230  \n",
       "4           100.023188         -0.0074            99.573267  "
      ]
     },
     "execution_count": 101,
     "metadata": {},
     "output_type": "execute_result"
    }
   ],
   "source": [
    "data['Mass_normalized_[%]'] = data['Mass_Percentage_[&]'] / max_mass * 100\n",
    "data.head()"
   ]
  },
  {
   "cell_type": "markdown",
   "metadata": {},
   "source": [
    "Now, we can create another little dataframe for calculation of weight percentage of organic monolayer. It should be between 1% and 3%."
   ]
  },
  {
   "cell_type": "code",
   "execution_count": 104,
   "metadata": {},
   "outputs": [
    {
     "data": {
      "text/plain": [
       "array([32.0375, 31.0287, 30.9125])"
      ]
     },
     "execution_count": 104,
     "metadata": {},
     "output_type": "execute_result"
    }
   ],
   "source": [
    "data2 = (data[(data['Tr_[°C]']==150) | (data['Tr_[°C]']==400) | (data['Tr_[°C]']==450)])['Gewicht_[mg]'].values\n",
    "data2"
   ]
  },
  {
   "cell_type": "code",
   "execution_count": 107,
   "metadata": {},
   "outputs": [
    {
     "data": {
      "text/plain": [
       "[3.148809988294969, 3.5115099492781896]"
      ]
     },
     "execution_count": 107,
     "metadata": {},
     "output_type": "execute_result"
    }
   ],
   "source": [
    "res = []\n",
    "for i in range(1,3):\n",
    "    res.append((data2[0]-data2[i])/data2[0]*100)\n",
    "res"
   ]
  },
  {
   "cell_type": "code",
   "execution_count": 108,
   "metadata": {},
   "outputs": [
    {
     "data": {
      "text/plain": [
       "Oleic Acid    3.14881\n",
       "Squalene      3.51151\n",
       "dtype: float64"
      ]
     },
     "execution_count": 108,
     "metadata": {},
     "output_type": "execute_result"
    }
   ],
   "source": [
    "mono = pd.Series(res, index = ['Oleic Acid', 'Squalene'])\n",
    "mono"
   ]
  },
  {
   "cell_type": "markdown",
   "metadata": {},
   "source": [
    "## Diagram"
   ]
  },
  {
   "cell_type": "code",
   "execution_count": 109,
   "metadata": {},
   "outputs": [
    {
     "data": {
      "image/png": "[encoded data removed]",
      "text/plain": [
       "<Figure size 432x288 with 1 Axes>"
      ]
     },
     "metadata": {
      "needs_background": "light"
     },
     "output_type": "display_data"
    }
   ],
   "source": [
    "plt.plot(data['Tr_[°C]'].values, data['Mass_normalized_[%]'].values)\n",
    "plt.xlabel('Temperature [°C]')\n",
    "plt.ylabel('Mass Normalized [%]')\n",
    "plt.show()"
   ]
  },
  {
   "cell_type": "code",
   "execution_count": 114,
   "metadata": {},
   "outputs": [],
   "source": [
    "mono.to_csv('result.csv', header=False)"
   ]
  },
  {
   "cell_type": "code",
   "execution_count": 118,
   "metadata": {},
   "outputs": [
    {
     "data": {
      "text/plain": [
       "<Figure size 432x288 with 0 Axes>"
      ]
     },
     "metadata": {},
     "output_type": "display_data"
    }
   ],
   "source": [
    "plt.savefig('test.png')"
   ]
  }
 ],
 "metadata": {
  "kernelspec": {
   "display_name": "Python 3",
   "language": "python",
   "name": "python3"
  },
  "language_info": {
   "codemirror_mode": {
    "name": "ipython",
    "version": 3
   },
   "file_extension": ".py",
   "mimetype": "text/x-python",
   "name": "python",
   "nbconvert_exporter": "python",
   "pygments_lexer": "ipython3",
   "version": "3.8.3"
  }
 },
 "nbformat": 4,
 "nbformat_minor": 4
}
